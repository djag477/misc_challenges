{
 "cells": [
  {
   "cell_type": "code",
   "execution_count": null,
   "metadata": {},
   "outputs": [],
   "source": [
    "#Check if a number is an Armstrong one\n",
    "\n",
    "num = input(\"Give me a number: \")\n",
    "total = 0\n",
    "\n",
    "for i in num:\n",
    "    total += int(i) ** len(num)\n",
    "    \n",
    "if str(total) == num:\n",
    "    print(f\"{num} is an Armstrong number\")\n",
    "else:\n",
    "    print(f\"{num} is not an Armstrong number\")"
   ]
  },
  {
   "cell_type": "code",
   "execution_count": null,
   "metadata": {},
   "outputs": [],
   "source": [
    "#Same as above but interested in testing list comprehensions\n",
    "num = input(\"Give me a number: \")\n",
    "\n",
    "a = sum([int(x) ** len(num) for x in num])\n",
    "\n",
    "if str(a) == num:\n",
    "    print(f\"{num} is an Armstrong number\")\n",
    "else:\n",
    "    print(f\"{num} is not an Armstrong number\")"
   ]
  },
  {
   "cell_type": "code",
   "execution_count": null,
   "metadata": {},
   "outputs": [],
   "source": [
    "#Thought I could instead search Armstrong numbers in a range\n",
    "\n",
    "as_nums = []\n",
    "\n",
    "for x in range(93085):\n",
    "    a = sum([int(i) ** len(str(x)) for i in str(x)])\n",
    "    if a == x:\n",
    "        as_nums.append(a)\n",
    "\n",
    "\n",
    "print(as_nums)"
   ]
  },
  {
   "cell_type": "code",
   "execution_count": null,
   "metadata": {},
   "outputs": [],
   "source": [
    "#Same as above but as a one-liner\n",
    "\n",
    "as_nums = [sum([int(i) ** len(str(x)) for i in str(x)]) for x in range(93085) if sum([int(i) ** len(str(x)) for i in str(x)]) == x]\n",
    "\n",
    "\n",
    "print(as_nums)"
   ]
  },
  {
   "cell_type": "code",
   "execution_count": null,
   "metadata": {},
   "outputs": [],
   "source": [
    "#Fibonacci sequence\n",
    "\n",
    "top = int(input(\"Up until which number should the sequence go?: \"))\n",
    "fibo = []\n",
    "num = 0 \n",
    "\n",
    "while num < top:\n",
    "    fibo.append(num)\n",
    "    if num == 0:\n",
    "        num += 1\n",
    "    elif len(fibo) >= 2:\n",
    "        num = fibo[-1] + fibo[-2]\n",
    "print(fibo)"
   ]
  },
  {
   "cell_type": "code",
   "execution_count": null,
   "metadata": {},
   "outputs": [],
   "source": [
    "#Shorter fibonacci sequence\n",
    "\n",
    "ls = [0, 1]\n",
    "\n",
    "for i in range(11):\n",
    "    ls += [sum(ls[-2::])]\n",
    "\n",
    "\n",
    "print(ls)"
   ]
  },
  {
   "cell_type": "code",
   "execution_count": null,
   "metadata": {},
   "outputs": [],
   "source": [
    "#FizzBuzz challenge\n",
    "\n",
    "for i in range(1, 101):\n",
    "    if i % 5 == 0 and i % 3 == 0:\n",
    "        print(\"FizzBuzz\")\n",
    "    elif i % 5 == 0:\n",
    "        print(\"Buzz\")\n",
    "    elif i % 3 == 0:\n",
    "        print(\"Fizz\")\n",
    "    else:\n",
    "        print(i)"
   ]
  },
  {
   "cell_type": "code",
   "execution_count": null,
   "metadata": {},
   "outputs": [],
   "source": [
    "#Is the number a prime one?\n",
    "\n",
    "num = int(input(\"Number: \"))\n",
    "tmp = 0\n",
    "\n",
    "\n",
    "for i in range(1, num + 1):\n",
    "    if num % i:\n",
    "        tmp += 1\n",
    "\n",
    "if num - tmp == 2:\n",
    "    print(f\"{num} it's prime\")\n",
    "else:\n",
    "    print(f\"{num} is not prime\")\n"
   ]
  },
  {
   "cell_type": "code",
   "execution_count": null,
   "metadata": {},
   "outputs": [],
   "source": [
    "#Flag all numbers in a range as prime or not prime\n",
    "\n",
    "for i in range(1, 1000):\n",
    "    tmp = 0\n",
    "    \n",
    "    for y in range(1, i + 1):\n",
    "                \n",
    "        if i % y:\n",
    "            tmp += 1\n",
    "\n",
    "    if i - tmp == 2:\n",
    "        print(f\"{y} it's prime\")\n",
    "    else:\n",
    "        print(f\"{y} is not prime\")\n",
    "        "
   ]
  },
  {
   "cell_type": "code",
   "execution_count": null,
   "metadata": {},
   "outputs": [],
   "source": [
    "#Produce a list of prime numbers found in a range\n",
    "\n",
    "primes = []\n",
    "\n",
    "for i in range(1, 101):\n",
    "    tmp = 0\n",
    "    \n",
    "    for y in range(1, i + 1):\n",
    "                \n",
    "        if i % y:\n",
    "            tmp += 1\n",
    "\n",
    "    if i - tmp == 2:\n",
    "        primes.append(y)\n",
    "\n",
    "print(primes)"
   ]
  },
  {
   "cell_type": "code",
   "execution_count": null,
   "metadata": {},
   "outputs": [],
   "source": [
    "#Sorter without a sorter function. Optimization pending\n",
    "\n",
    "# Find a library that has a method to randomize the order of items in a list\n",
    "import random\n",
    "\n",
    "# Create the list where to include a range of numbers to be sorted\n",
    "my_list = []\n",
    "\n",
    "# Create a helper variable to rotate the items in the list \n",
    "temp = 0\n",
    "\n",
    "# Populate the array with the numbers to sort later\n",
    "for i in range(0, 100):\n",
    "    my_list.append(i)\n",
    "\n",
    "# Shuffle the array so that we can sort it later\n",
    "random.shuffle(my_list)\n",
    "\n",
    "# Show the original list being shuffled\n",
    "print(\"Unorganized list\")\n",
    "print(my_list)\n",
    "\n",
    "# Go through each item in the list starting at the beginning of the list\n",
    "for i in range(0, len(my_list)):\n",
    "    # Compare it to each item after itself\n",
    "    for j in range(i+1, len(my_list)):\n",
    "        # If the any of the next items is bigger than the one being checked\n",
    "        if(my_list[i] < my_list[j]):\n",
    "            # Rotate the position of the values using the helper variable\n",
    "            temp = my_list[i]    \n",
    "            my_list[i] = my_list[j]\n",
    "            my_list[j] = temp\n",
    "\n",
    "\n",
    "# Show how the list has been arranged\n",
    "print(\"The organized list\")\n",
    "print(my_list)"
   ]
  }
 ],
 "metadata": {
  "language_info": {
   "name": "python"
  },
  "orig_nbformat": 4
 },
 "nbformat": 4,
 "nbformat_minor": 2
}
